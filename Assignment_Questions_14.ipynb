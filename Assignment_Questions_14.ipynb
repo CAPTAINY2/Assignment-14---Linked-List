{
  "nbformat": 4,
  "nbformat_minor": 0,
  "metadata": {
    "colab": {
      "provenance": [],
      "authorship_tag": "ABX9TyMEUBrBqEKfiTsxW/qnO4G4",
      "include_colab_link": true
    },
    "kernelspec": {
      "name": "python3",
      "display_name": "Python 3"
    },
    "language_info": {
      "name": "python"
    }
  },
  "cells": [
    {
      "cell_type": "markdown",
      "metadata": {
        "id": "view-in-github",
        "colab_type": "text"
      },
      "source": [
        "<a href=\"https://colab.research.google.com/github/CAPTAINY2/Assignment-14---Linked-List/blob/main/Assignment_Questions_14.ipynb\" target=\"_parent\"><img src=\"https://colab.research.google.com/assets/colab-badge.svg\" alt=\"Open In Colab\"/></a>"
      ]
    },
    {
      "cell_type": "markdown",
      "source": [
        "### QUESTION-2"
      ],
      "metadata": {
        "id": "_NcO7cBeYval"
      }
    },
    {
      "cell_type": "code",
      "source": [
        "class Node:\n",
        "    def __init__(self, data):\n",
        "        self.data = data\n",
        "        self.next = None\n",
        "\n",
        "def reverselist(head):\n",
        "    prev =None\n",
        "    current = head\n",
        "\n",
        "    while current:\n",
        "        next_node = current.next\n",
        "        current.next = prev\n",
        "        prev = current\n",
        "        current = next_node\n",
        "\n",
        "    return prev\n",
        "\n",
        "def addOne(head):\n",
        "    reversed_head = reverselist(head)\n",
        "    current = reversed_head\n",
        "    carry = 1\n",
        "\n",
        "    while current and carry:\n",
        "        sum = current.data + carry\n",
        "        current.data = sum % 10\n",
        "        carry = sum // 10\n",
        "\n",
        "        current = current.next\n",
        "    result_head = reverselist(reversed_head)\n",
        "\n",
        "    return result_head\n",
        "\n",
        "head1 = Node(4)\n",
        "head1.next = Node(5)\n",
        "head1.next.next = Node(6)\n",
        "\n",
        "result1 = addOne(head1)\n",
        "\n",
        "number1 = \"\"\n",
        "current1 = result1\n",
        "while current1:\n",
        "    number1 += str(current1.data)\n",
        "    current1 = current1.next\n",
        "\n",
        "print(\"Output 1: \", number1)\n",
        "\n",
        "\n",
        "\n",
        "head2 = Node(1)\n",
        "head2.next = Node(2)\n",
        "head2.next.next = Node(3)\n",
        "result2 = addOne(head2)\n",
        "\n",
        "number2 = \"\"\n",
        "current2 = result2\n",
        "while current2:\n",
        "    number2 += str(current2.data)\n",
        "    current2 = current2.next\n",
        "\n",
        "print(\"Outpiut 2: \", number2)"
      ],
      "metadata": {
        "colab": {
          "base_uri": "https://localhost:8080/"
        },
        "id": "jnY_icDuMrG2",
        "outputId": "90766b60-9f22-40f8-da8f-c839cd3e59fc"
      },
      "execution_count": null,
      "outputs": [
        {
          "output_type": "stream",
          "name": "stdout",
          "text": [
            "Output 1:  457\n",
            "Outpiut 2:  124\n"
          ]
        }
      ]
    },
    {
      "cell_type": "markdown",
      "source": [
        "### QUESTION-3"
      ],
      "metadata": {
        "id": "D8TP7M8jY25v"
      }
    },
    {
      "cell_type": "markdown",
      "source": [],
      "metadata": {
        "id": "Cf4Bg5R-Y2j1"
      }
    },
    {
      "cell_type": "code",
      "source": [
        "class Node:\n",
        "    def __init__(self, data):\n",
        "        self.data = data\n",
        "        self.next = None\n",
        "        self.bottom = None\n",
        "\n",
        "def merge(a, b):\n",
        "    if a is None:\n",
        "        return b\n",
        "    if b is None:\n",
        "        return a\n",
        "\n",
        "    result = None\n",
        "    if a.data < b.data:\n",
        "        result = a\n",
        "        result.bottom = merge(a.bottom, b)\n",
        "    else:\n",
        "        result = b\n",
        "        result.bottom = merge(a, b.bottom)\n",
        "\n",
        "    result.next = None\n",
        "    return result\n",
        "\n",
        "def flatten(head):\n",
        "    if head is None or head.next is None:\n",
        "        return head\n",
        "\n",
        "    head.next = flatten(head.next)\n",
        "    head = merge(head, head.next)\n",
        "\n",
        "    return head\n",
        "\n",
        "head1 = Node(5)\n",
        "head1.next = Node(10)\n",
        "head1.next.next = Node(19)\n",
        "head1.next.next.next = Node(28)\n",
        "head1.bottom = Node(7)\n",
        "head1.bottom.bottom = Node(8)\n",
        "head1.bottom.bottom.bottom = Node(30)\n",
        "head1.next.bottom = Node(20)\n",
        "head1.next.next.bottom = Node(22)\n",
        "head1.next.next.next.bottom = Node(35)\n",
        "head1.next.next.next.bottom.bottom = Node(40)\n",
        "head1.next.next.next.bottom.bottom.bottom = Node(45)\n",
        "head1.next.next.next.bottom.bottom.bottom.bottom = Node(50)\n",
        "\n",
        "result1 = flatten(head1)\n",
        "print(\"Output 1: \")\n",
        "while result1:\n",
        "    print(result1.data, end=\"-> \")\n",
        "    result1 = result1.bottom\n",
        "\n",
        "\n",
        "head2 = Node(5)\n",
        "head2.next = Node(10)\n",
        "head2.next.next = Node(19)\n",
        "head2.next.next.next = Node(28)\n",
        "head2.bottom = Node(7)\n",
        "head2.bottom.bottom = Node(8)\n",
        "head2.bottom.bottom.bottom = Node(30)\n",
        "head2.next.bottom = Node(22)\n",
        "head2.next.next.bottom = Node(50)\n",
        "\n",
        "result2 = flatten(head2)\n",
        "print(\"Output 2: \")\n",
        "\n",
        "while result2:\n",
        "    print(result2.data, end=\"-> \")\n",
        "    result2 = result2.bottom\n"
      ],
      "metadata": {
        "colab": {
          "base_uri": "https://localhost:8080/"
        },
        "id": "JjgdWi7aHlmV",
        "outputId": "70e09301-e7c5-4f2b-c99d-888fd47b864c"
      },
      "execution_count": null,
      "outputs": [
        {
          "output_type": "stream",
          "name": "stdout",
          "text": [
            "Output 1: \n",
            "5-> 7-> 8-> 10-> 19-> 20-> 22-> 28-> 30-> 35-> 40-> 45-> 50-> Output 2: \n",
            "5-> 7-> 8-> 10-> 19-> 22-> 28-> 30-> 50-> "
          ]
        }
      ]
    },
    {
      "cell_type": "markdown",
      "source": [
        "### QUESTION-5"
      ],
      "metadata": {
        "id": "ZMA8pv1bh8gG"
      }
    },
    {
      "cell_type": "code",
      "source": [
        "class ListNode:\n",
        "    def __init__(self, val=0, next=None):\n",
        "        self.val = val\n",
        "        self.next = next\n",
        "\n",
        "\n",
        "def odd_even_list(head):\n",
        "    if not head or not head.next:\n",
        "        return head\n",
        "\n",
        "    odd_head = odd_tail = head\n",
        "    even_head = even_tail = head.next\n",
        "\n",
        "    while even_tail and even_tail.next:\n",
        "        odd_tail.next = even_tail.next\n",
        "        odd_tail = odd_tail.next\n",
        "        even_tail.next = odd_tail.next\n",
        "        even_tail = even_tail.next\n",
        "\n",
        "    odd_tail.next = even_head\n",
        "\n",
        "    return odd_head\n",
        "\n",
        "node1 = ListNode(1)\n",
        "node2 = ListNode(2)\n",
        "node3 = ListNode(3)\n",
        "node4 = ListNode(4)\n",
        "node5 = ListNode(5)\n",
        "node1.next = node2\n",
        "node2.next = node3\n",
        "node3.next = node4\n",
        "node4.next = node5\n",
        "\n",
        "result = odd_even_list(node1)\n",
        "\n",
        "current = result\n",
        "print(\"Output 1: \")\n",
        "while current:\n",
        "    print(current.val, end=\" \")\n",
        "    current = current.next\n",
        "\n",
        "\n",
        "node11 = ListNode(2)\n",
        "node12 = ListNode(1)\n",
        "node13 = ListNode(3)\n",
        "node14 = ListNode(5)\n",
        "node15 = ListNode(6)\n",
        "node16 = ListNode(4)\n",
        "node17 = ListNode(7)\n",
        "node11.next = node12\n",
        "node12.next = node13\n",
        "node13.next = node14\n",
        "node14.next = node15\n",
        "node15.next = node16\n",
        "node16.next = node17\n",
        "\n",
        "result = odd_even_list(node11)\n",
        "\n",
        "current = result\n",
        "print(\"Output 2: \")\n",
        "while current:\n",
        "    print(current.val, end=\" \")\n",
        "    current = current.next"
      ],
      "metadata": {
        "colab": {
          "base_uri": "https://localhost:8080/"
        },
        "id": "NfjuKVv3h_0Z",
        "outputId": "66bd0094-73c6-487f-cd48-94a7bcf4ff7b"
      },
      "execution_count": null,
      "outputs": [
        {
          "output_type": "stream",
          "name": "stdout",
          "text": [
            "Output 1: \n",
            "1 3 5 2 4 Output 2: \n",
            "2 3 6 7 1 5 4 "
          ]
        }
      ]
    },
    {
      "cell_type": "markdown",
      "source": [
        "### QUESTION-6"
      ],
      "metadata": {
        "id": "-DlDMuAfT5yf"
      }
    },
    {
      "cell_type": "code",
      "source": [
        "class Node:\n",
        "    def __init__(self, data=None):\n",
        "        self.data = data\n",
        "        self.next = None\n",
        "\n",
        "\n",
        "def leftShift(head, k):\n",
        "    if not head or not head.next or k == 0:\n",
        "        return head\n",
        "\n",
        "    current = head\n",
        "    count = 1\n",
        "    while count < k and current:\n",
        "        current = current.next\n",
        "        count += 1\n",
        "\n",
        "    if not current:\n",
        "        return head\n",
        "\n",
        "    new_head = current.next\n",
        "    current.next = None\n",
        "\n",
        "    current = new_head\n",
        "    while current.next:\n",
        "        current = current.next\n",
        "\n",
        "    current.next = head\n",
        "\n",
        "    return new_head\n",
        "\n",
        "node1 = Node(2)\n",
        "node2 = Node(4)\n",
        "node3 = Node(7)\n",
        "node4 = Node(8)\n",
        "node5 = Node(9)\n",
        "node1.next = node2\n",
        "node2.next = node3\n",
        "node3.next = node4\n",
        "node4.next = node5\n",
        "\n",
        "k = 3\n",
        "new_head1 = leftShift(node1, k)\n",
        "\n",
        "current = new_head1\n",
        "print(\"Output 1: \")\n",
        "while current:\n",
        "    print(current.data, end=\" \")\n",
        "    current = current.next\n",
        "\n",
        "\n",
        "node11 = Node(1)\n",
        "node12 = Node(2)\n",
        "node13 = Node(3)\n",
        "node14 = Node(4)\n",
        "node15 = Node(5)\n",
        "node16 = Node(6)\n",
        "node17 = Node(7)\n",
        "node18 = Node(8)\n",
        "node11.next = node12\n",
        "node12.next = node13\n",
        "node13.next = node14\n",
        "node14.next = node15\n",
        "node15.next = node16\n",
        "node16.next = node17\n",
        "node17.next = node18\n",
        "\n",
        "k = 4\n",
        "new_head2 = leftShift(node11, k)\n",
        "\n",
        "current = new_head2\n",
        "print(\"Output 2: \")\n",
        "while current:\n",
        "    print(current.data, end=\" \")\n",
        "    current = current.next"
      ],
      "metadata": {
        "colab": {
          "base_uri": "https://localhost:8080/"
        },
        "id": "YfDb_VhTTiXo",
        "outputId": "3eb39b2b-4e70-4dff-db93-8960432767e9"
      },
      "execution_count": null,
      "outputs": [
        {
          "output_type": "stream",
          "name": "stdout",
          "text": [
            "Output 1: \n",
            "8 9 2 4 7 Output 2: \n",
            "5 6 7 8 1 2 3 4 "
          ]
        }
      ]
    },
    {
      "cell_type": "markdown",
      "source": [
        "### QUESTION-7"
      ],
      "metadata": {
        "id": "Tiua0aSsYhE7"
      }
    },
    {
      "cell_type": "code",
      "source": [
        "class ListNode:\n",
        "    def __init__(self, val=0, next=None):\n",
        "        self.val = val\n",
        "        self.next = next\n",
        "\n",
        "\n",
        "def larger_nodes(head):\n",
        "    arr = []\n",
        "    while head:\n",
        "        arr.append(head.val)\n",
        "        head = head.next\n",
        "\n",
        "    n = len(arr)\n",
        "    stack = []\n",
        "    answer = [0] * n\n",
        "\n",
        "    for i in range(n - 1, -1, -1):\n",
        "        while stack and arr[i] >= stack[-1]:\n",
        "            stack.pop()\n",
        "\n",
        "        if stack:\n",
        "            answer[i] = stack[-1]\n",
        "\n",
        "        stack.append(arr[i])\n",
        "\n",
        "    return answer\n",
        "\n",
        "node1 = ListNode(2)\n",
        "node2 = ListNode(1)\n",
        "node3 = ListNode(5)\n",
        "node1.next = node2\n",
        "node2.next = node3\n",
        "\n",
        "print(\"Output 1: \", larger_nodes(node1))\n",
        "\n",
        "\n",
        "node11 = ListNode(2)\n",
        "node12 = ListNode(7)\n",
        "node13 = ListNode(4)\n",
        "node14 = ListNode(3)\n",
        "node15 = ListNode(5)\n",
        "node11.next = node12\n",
        "node12.next = node13\n",
        "node13.next = node14\n",
        "node14.next = node15\n",
        "\n",
        "print(\"Output 2: \", larger_nodes(node11))\n",
        "\n"
      ],
      "metadata": {
        "colab": {
          "base_uri": "https://localhost:8080/"
        },
        "id": "ef-wQSi-UEPe",
        "outputId": "9b1c098f-c150-443f-89a4-bcb18c27f3b4"
      },
      "execution_count": null,
      "outputs": [
        {
          "output_type": "stream",
          "name": "stdout",
          "text": [
            "Output 1:  [5, 5, 0]\n",
            "Output 2:  [7, 0, 5, 5, 0]\n"
          ]
        }
      ]
    },
    {
      "cell_type": "markdown",
      "source": [
        "### QUESTION-8"
      ],
      "metadata": {
        "id": "JvOaDGVThXIA"
      }
    },
    {
      "cell_type": "code",
      "source": [
        "class ListNode:\n",
        "    def __init__(self, val=0, next=None):\n",
        "        self.val = val\n",
        "        self.next = next\n",
        "\n",
        "\n",
        "def zero_sublists(head):\n",
        "    dummy = ListNode(0)\n",
        "    dummy.next = head\n",
        "\n",
        "    prev = dummy\n",
        "    current = dummy.next\n",
        "\n",
        "    while current:\n",
        "        sum = 0\n",
        "        node = current\n",
        "        while node:\n",
        "            sum += node.val\n",
        "            if sum == 0:\n",
        "                prev.next = node.next\n",
        "                break\n",
        "            node = node.next\n",
        "\n",
        "        if not node:\n",
        "            prev = current\n",
        "\n",
        "        current = current.next\n",
        "\n",
        "    return dummy.next\n",
        "\n",
        "node1 = ListNode(1)\n",
        "node2 = ListNode(2)\n",
        "node3 = ListNode(-3)\n",
        "node4 = ListNode(3)\n",
        "node5 = ListNode(1)\n",
        "node1.next = node2\n",
        "node2.next = node3\n",
        "node3.next = node4\n",
        "node4.next = node5\n",
        "\n",
        "result = zero_sublists(node1)\n",
        "\n",
        "current = result\n",
        "print(\"Output 1: \")\n",
        "while current:\n",
        "    print(current.val, end=\" \")\n",
        "    current = current.next\n",
        "\n",
        "\n",
        "node11 = ListNode(1)\n",
        "node12 = ListNode(2)\n",
        "node13 = ListNode(3)\n",
        "node14 = ListNode(-3)\n",
        "node15 = ListNode(4)\n",
        "node11.next = node12\n",
        "node12.next = node13\n",
        "node13.next = node14\n",
        "node14.next = node15\n",
        "\n",
        "result = zero_sublists(node11)\n",
        "current = result\n",
        "print(\"Output 2: \")\n",
        "while current:\n",
        "    print(current.val, end=\" \")\n",
        "    current = current.next\n",
        "\n",
        "\n",
        "\n",
        "node21 = ListNode(1)\n",
        "node22 = ListNode(2)\n",
        "node23 = ListNode(3)\n",
        "node24 = ListNode(-3)\n",
        "node25 = ListNode(-2)\n",
        "node21.next = node22\n",
        "node22.next = node23\n",
        "node23.next = node24\n",
        "node24.next = node25\n",
        "\n",
        "result = zero_sublists(node21)\n",
        "current = result\n",
        "print(\"Output 3: \")\n",
        "while current:\n",
        "    print(current.val, end=\" \")\n",
        "    current = current.next\n"
      ],
      "metadata": {
        "colab": {
          "base_uri": "https://localhost:8080/"
        },
        "id": "livnKu9dXPtt",
        "outputId": "22d45a68-820a-410b-acca-42035fc19893"
      },
      "execution_count": null,
      "outputs": [
        {
          "output_type": "stream",
          "name": "stdout",
          "text": [
            "Output 1: \n",
            "3 1 Output 2: \n",
            "1 2 4 Output 3: \n",
            "1 -2 "
          ]
        }
      ]
    },
    {
      "cell_type": "code",
      "source": [],
      "metadata": {
        "id": "dlnv9UAnhQQ8"
      },
      "execution_count": null,
      "outputs": []
    }
  ]
}